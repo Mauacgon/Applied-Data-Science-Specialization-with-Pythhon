{
 "cells": [
  {
   "cell_type": "code",
   "execution_count": null,
   "metadata": {},
   "outputs": [],
   "source": [
    "import numpy as np\n",
    "import pandas as pd\n",
    "import matplotlib.pyplot as plt\n",
    "\n",
    "##NOTE THAT I INTERPRETED THIS EXCERSICE AS FIRGURING OUT THE BREACH IN 2015 OF MAXIMUM HIGH AND LOW TEMPERATURES BETWEEN 2005-2014\n",
    "##SO BOTH LINE PLOTS REPRESENT MAXIMUM HIGHS AND MAXIMUM LOWS, AND THE POINTS REPRESENT THE BREACH OF THE HIGHS AND LOWS ABOVE THIS LINES\n",
    "\n",
    "diR = 'data/C2A2_data/BinnedCsvs_d400/fb441e62df2d58994928907a91895ec62c2c42e6cd075c2700843b89.csv'\n",
    "data = pd.read_csv(diR)\n",
    "\n",
    "data['Date'] = pd.to_datetime(data['Date'], infer_datetime_format = True)\n",
    "data['Data_Value'] = data['Data_Value'].apply(lambda x: x/10)\n",
    "data['Month_Day'] = data['Date'].dt.strftime('%m-%d')\n",
    "\n",
    "data = data[data['Month_Day'] != '02-29']\n",
    "\n",
    "dataH = data[data['Element'] == 'TMAX']\n",
    "dataM = data[data['Element'] == 'TMIN']\n",
    "\n",
    "dataMaxPrev = dataH[dataH['Date'] < pd.datetime(2015,1,1)].pivot_table(values = 'Data_Value',\n",
    "                                                                     columns = 'Month_Day',\n",
    "                                                                    aggfunc = max)\n",
    "\n",
    "dataMinPrev = dataM[dataM['Date'] < pd.datetime(2015,1,1)].pivot_table(values = 'Data_Value',\n",
    "                                                                     columns = 'Month_Day',\n",
    "                                                                    aggfunc = max)\n",
    "\n",
    "dataMaxPost = dataH[dataH['Date'] >= pd.datetime(2015,1,1)].pivot_table(values = 'Data_Value',\n",
    "                                                                        columns = 'Month_Day',\n",
    "                                                                        aggfunc = max)\n",
    "dataMinPost = dataM[dataM['Date'] >= pd.datetime(2015,1,1)].pivot_table(values = 'Data_Value',\n",
    "                                                                       columns = 'Month_Day',\n",
    "                                                                       aggfunc = max)\n",
    "\n",
    "dataMinPrev.index = range(1,len(dataMinPrev)+1)\n",
    "dataMaxPrev.index = range(1,len(dataMaxPrev)+1)\n",
    "dataMinPost.index = range(1,len(dataMinPrev)+1)\n",
    "dataMaxPost.index = range(1,len(dataMaxPrev)+1)\n",
    "\n",
    "dataMaxPost = dataMaxPost[dataMaxPost > dataMaxPrev]\n",
    "dataMinPost = dataMinPost[dataMinPost > dataMinPrev]\n",
    "\n",
    "plt.figure(figsize = (11,6),)\n",
    "plt.plot(dataMaxPrev.index, dataMaxPrev, linewidth = 0.5, label = '2005-2014 Max High')\n",
    "plt.plot(dataMinPrev.index, dataMinPrev, linewidth = 0.5, label = '2005-2014 Max Low')\n",
    "plt.gca().fill_between(dataMaxPrev.index, dataMaxPrev, dataMinPrev, facecolor='blue', alpha=.25)\n",
    "plt.scatter(dataMaxPost.index, dataMaxPost, s=7.5, color = 'darkblue', label = 'Max High Breach (2015)')\n",
    "plt.scatter(dataMinPost.index, dataMinPost, s=7.5, color = 'darkred', label = 'Max Min Breach (2015)')\n",
    "plt.xlabel('Year Day')\n",
    "plt.ylabel('Degrees (C)')\n",
    "plt.legend(loc = 'lower center', frameon=False)\n",
    "plt.title('Assignment 2: max high T\\'s and max min T\\'s 2005-2014 and breaches ABOVE of these along 2015')\n",
    "plt.savefig('plot.png')\n",
    "plt.show()"
   ]
  }
 ],
 "metadata": {
  "kernelspec": {
   "display_name": "Python 3",
   "language": "python",
   "name": "python3"
  },
  "language_info": {
   "codemirror_mode": {
    "name": "ipython",
    "version": 3
   },
   "file_extension": ".py",
   "mimetype": "text/x-python",
   "name": "python",
   "nbconvert_exporter": "python",
   "pygments_lexer": "ipython3",
   "version": "3.8.5"
  }
 },
 "nbformat": 4,
 "nbformat_minor": 4
}
