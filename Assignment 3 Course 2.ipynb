{
 "cells": [
  {
   "cell_type": "code",
   "execution_count": 10,
   "metadata": {},
   "outputs": [
    {
     "data": {
      "image/png": "[encoded data removed]",
      "text/plain": [
       "<Figure size 432x288 with 1 Axes>"
      ]
     },
     "metadata": {
      "needs_background": "light"
     },
     "output_type": "display_data"
    },
    {
     "name": "stdout",
     "output_type": "stream",
     "text": [
      "[1.0, 0.3577343041633575, 0.7708846729645454, 1.0, 0.29275341402421795]\n"
     ]
    }
   ],
   "source": [
    "#Easy approach\n",
    "\n",
    "#Difficult Approach\n",
    "\n",
    "import pandas as pd\n",
    "import numpy as np\n",
    "import matplotlib.pyplot as plt\n",
    "\n",
    "np.random.seed(12345)\n",
    "\n",
    "df = pd.DataFrame([np.random.normal(32000,200000,3650), \n",
    "                   np.random.normal(43000,100000,3650), \n",
    "                   np.random.normal(43500,140000,3650), \n",
    "                   np.random.normal(48000,70000,3650),\n",
    "                  np.random.normal(57000,1000000,3650)],\n",
    "                  index=[1992,1993,1994,1995,1996])\n",
    "\n",
    "def plotmean(dataframe, hValue):\n",
    "    \n",
    "    barHights = dataframe.T.mean()\n",
    "    barErrors = dataframe.T.sem()*1.96\n",
    "    \n",
    "    y = list(barHights)\n",
    "    x = list(dataframe.T.columns)\n",
    "    z = list(barErrors)\n",
    "    \n",
    "    colors = []\n",
    "    alphas = [] \n",
    "    \n",
    "    for value in y:\n",
    "        if value < hValue:\n",
    "            colors.append('b')\n",
    "        elif value > hValue:\n",
    "            colors.append('r')\n",
    "        else:\n",
    "            colors.append('g')\n",
    "    \n",
    "    for i in range(len(y)):\n",
    "        if y[i] < hValue:\n",
    "            alphas.append(1-max(0,(y[i]+z[i]-hValue))/z[i])\n",
    "        if y[i] > hValue:\n",
    "            alphas.append(1-max(0,(hValue-y[i]+z[i]))/z[i])    \n",
    "    \n",
    "    fig = plt.figure()\n",
    "    #plt.axis('off')\n",
    "    plt.gca().spines['right'].set_visible(False)\n",
    "    plt.gca().spines['top'].set_visible(False)\n",
    "    plt.gca().spines['left'].set_visible(False)\n",
    "    plt.gca().spines['bottom'].set_visible(False)\n",
    "    ax1 = plt.bar(x,y, yerr = barErrors, color = 'grey')\n",
    "    for i in range(len(ax1.get_children())):\n",
    "        ax1.get_children()[i].set_color(colors[i])\n",
    "        ax1.get_children()[i].set_alpha(alphas[i])\n",
    "    plt.xticks(x)\n",
    "    plt.axhline(y=hValue)\n",
    "    plt.title('Harder Approach')\n",
    "    plt.text(1996.5,hValue+10,'y='+str(hValue),bbox=dict(facecolor='red', alpha=0.5))\n",
    "    plt.show()\n",
    "    print(alphas)\n",
    "    \n",
    "plotmean(df, df.T.mean().mean())\n",
    "\n"
   ]
  },
  {
   "cell_type": "code",
   "execution_count": null,
   "metadata": {},
   "outputs": [],
   "source": []
  }
 ],
 "metadata": {
  "kernelspec": {
   "display_name": "Python 3",
   "language": "python",
   "name": "python3"
  },
  "language_info": {
   "codemirror_mode": {
    "name": "ipython",
    "version": 3
   },
   "file_extension": ".py",
   "mimetype": "text/x-python",
   "name": "python",
   "nbconvert_exporter": "python",
   "pygments_lexer": "ipython3",
   "version": "3.8.5"
  }
 },
 "nbformat": 4,
 "nbformat_minor": 4
}
